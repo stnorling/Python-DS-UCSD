{
 "cells": [
  {
   "cell_type": "code",
   "execution_count": null,
   "metadata": {},
   "outputs": [],
   "source": [
    "# Data Source: https://www.kaggle.com/worldbank/world-development-indicators\n",
    "# Folder: 'world-development-indicators'"
   ]
  },
  {
   "cell_type": "markdown",
   "metadata": {},
   "source": [
    "<br><p style=\"font-family: Arial; font-size:3.75em;color:purple; font-style:bold\">\n",
    "Matplotlib: Exploring <br> <br> <br>Data Visualization</p><br><br>"
   ]
  },
  {
   "cell_type": "markdown",
   "metadata": {},
   "source": [
    "<br><br><center><h1 style=\"font-size:2em;color:#2467C0\">World Development Indicators</h1></center>\n",
    "<br>\n",
    "<table>\n",
    "<col width=\"550\">\n",
    "<col width=\"450\">\n",
    "<tr>\n",
    "<td><img src=\"https://upload.wikimedia.org/wikipedia/commons/4/46/North_South_divide.svg\" align=\"middle\" style=\"width:550px;height:360px;\"/></td>\n",
    "<td>\n",
    "This week, we will be using an open dataset from <a href=\"https://www.kaggle.com\">Kaggle</a>. It is  <a href=\"https://www.kaggle.com/worldbank/world-development-indicators\">The World Development Indicators</a> dataset obtained from the World Bank containing over a thousand annual indicators of economic development from hundreds of countries around the world.\n",
    "<br>\n",
    "<br>\n",
    "This is a slightly modified version of the original dataset from <a href=\"http://data.worldbank.org/data-catalog/world-development-indicators\">The World Bank</a>\n",
    "<br>\n",
    "<br>\n",
    "List of the <a href=\"https://www.kaggle.com/benhamner/d/worldbank/world-development-indicators/indicators-in-data\">available indicators</a> and a <a href=\"https://www.kaggle.com/benhamner/d/worldbank/world-development-indicators/countries-in-the-wdi-data\">list of the available countries</a>.\n",
    "</td>\n",
    "</tr>\n",
    "</table>"
   ]
  },
  {
   "cell_type": "markdown",
   "metadata": {},
   "source": [
    "# Step 1: Initial exploration of the Dataset"
   ]
  },
  {
   "cell_type": "code",
   "execution_count": null,
   "metadata": {},
   "outputs": [],
   "source": [
    "# The first step with any dataset is to perform an initial exploration\n",
    "\n",
    "import pandas as pd\n",
    "import numpy as np\n",
    "import random\n",
    "import matplotlib.pyplot as plt"
   ]
  },
  {
   "cell_type": "code",
   "execution_count": null,
   "metadata": {},
   "outputs": [],
   "source": [
    "!ls"
   ]
  },
  {
   "cell_type": "code",
   "execution_count": null,
   "metadata": {},
   "outputs": [],
   "source": [
    "data = pd.read_csv('./world-development-indicators/Indicators.csv')\n",
    "data.shape"
   ]
  },
  {
   "cell_type": "markdown",
   "metadata": {},
   "source": [
    "This is a really large dataset, at least in terms of the number of rows.  But with 6 columns, what does this hold?"
   ]
  },
  {
   "cell_type": "code",
   "execution_count": null,
   "metadata": {},
   "outputs": [],
   "source": [
    "data.head(10)"
   ]
  },
  {
   "cell_type": "markdown",
   "metadata": {},
   "source": [
    "Looks like it has different indicators for different countries with the year and value of the indicator. "
   ]
  },
  {
   "cell_type": "markdown",
   "metadata": {},
   "source": [
    "### How many UNIQUE country names are there ?"
   ]
  },
  {
   "cell_type": "code",
   "execution_count": null,
   "metadata": {},
   "outputs": [],
   "source": [
    "# We use the numpy .tolist method to return the np array (vector) data as a python list.\n",
    "# We then can take the len of this list to see how many countries are in our dataset\n",
    "\n",
    "countries = data['CountryName'].unique().tolist()\n",
    "print(type(countries))\n",
    "len(countries)"
   ]
  },
  {
   "cell_type": "markdown",
   "metadata": {},
   "source": [
    "### Are there the same number of country codes ?"
   ]
  },
  {
   "cell_type": "code",
   "execution_count": null,
   "metadata": {},
   "outputs": [],
   "source": [
    "# How many unique country codes are there? (should be the same as the number of countries)\n",
    "\n",
    "countryCodes = data['CountryCode'].unique().tolist()\n",
    "len(countryCodes)"
   ]
  },
  {
   "cell_type": "markdown",
   "metadata": {},
   "source": [
    "### Are there many indicators or few ?"
   ]
  },
  {
   "cell_type": "code",
   "execution_count": null,
   "metadata": {},
   "outputs": [],
   "source": [
    "# How many unique indicators are there ?\n",
    "\n",
    "indicators = data['IndicatorName'].unique().tolist()\n",
    "len(indicators)"
   ]
  },
  {
   "cell_type": "markdown",
   "metadata": {},
   "source": [
    "### How many years of data do we have ?"
   ]
  },
  {
   "cell_type": "code",
   "execution_count": null,
   "metadata": {},
   "outputs": [],
   "source": [
    "# How many years of data do we have ?\n",
    "\n",
    "years = data['Year'].unique().tolist()\n",
    "len(years)"
   ]
  },
  {
   "cell_type": "markdown",
   "metadata": {},
   "source": [
    "### What's the range of years?"
   ]
  },
  {
   "cell_type": "code",
   "execution_count": null,
   "metadata": {},
   "outputs": [],
   "source": [
    "# below compares the min and max values of the list 'years'\n",
    "\n",
    "print(min(years),\" to \",max(years))"
   ]
  },
  {
   "cell_type": "markdown",
   "metadata": {},
   "source": [
    "At this point we have a good feel for the dataset - we have various indicators of economic development per country over the time span of 1960 to 2015"
   ]
  },
  {
   "cell_type": "markdown",
   "metadata": {},
   "source": [
    "<p style=\"font-family: Arial; font-size:2.5em;color:blue; font-style:bold\">\n",
    "Matplotlib: Basic Plotting, Part 1</p><br>"
   ]
  },
  {
   "cell_type": "markdown",
   "metadata": {},
   "source": [
    "### Lets pick a country and an indicator to explore: CO2 Emissions per capita and the USA"
   ]
  },
  {
   "cell_type": "code",
   "execution_count": null,
   "metadata": {},
   "outputs": [],
   "source": [
    "# select CO2 emissions for the United States\n",
    "hist_indicator = 'CO2 emissions \\(metric'\n",
    "hist_country = 'USA'\n",
    "\n",
    "# first we create masks (boolean arrays) for the given data we want - set my variables\n",
    "# hist_indiator and hist_country\n",
    "mask1 = data['IndicatorName'].str.contains(hist_indicator) \n",
    "mask2 = data['CountryCode'].str.contains(hist_country)\n",
    "\n",
    "# we then filter the data using these masks on our original data and assign it to variable\n",
    "# 'stage'. this returns the USA for country code and indicator CO2 emissions over time.\n",
    "\n",
    "# more than one mask can be applied by using the '&' operator when indexing with them\n",
    "stage = data[mask1 & mask2]"
   ]
  },
  {
   "cell_type": "code",
   "execution_count": null,
   "metadata": {
    "scrolled": true
   },
   "outputs": [],
   "source": [
    "# as can be seen below, the data has been filtered to only include USA and CO2 emissions (metric\n",
    "# tons per capita)\n",
    "\n",
    "stage.head()"
   ]
  },
  {
   "cell_type": "markdown",
   "metadata": {},
   "source": [
    "### Let's see how emissions have changed over time using MatplotLib"
   ]
  },
  {
   "cell_type": "code",
   "execution_count": null,
   "metadata": {},
   "outputs": [],
   "source": [
    "# below gets the year values from our stage Dataframe and returns as a rank 1 ndarray\n",
    "years = stage['Year'].values\n",
    "\n",
    "# below gets the CO2 emmissions values from our stage Dataframe and returns as a rank 1 ndarray \n",
    "co2 = stage['Value'].values\n",
    "\n",
    "# we then create the bar chart b plotting years on the x axis and CO2 emissions on the y axis\n",
    "# remember \"plt\" is an alias for matplotlib.pyplot. we use the bar method to create the chart\n",
    "plt.bar(years,co2)\n",
    "\n",
    "# the .show method is used to display the chart we've created\n",
    "plt.show()"
   ]
  },
  {
   "cell_type": "markdown",
   "metadata": {},
   "source": [
    "Turns out emissions per capita have dropped a bit over time, but let's make this graphic a bit more appealing before we continue to explore it."
   ]
  },
  {
   "cell_type": "code",
   "execution_count": null,
   "metadata": {},
   "outputs": [],
   "source": [
    "# we can switch to a line plot using the .plot method\n",
    "plt.plot(years, co2)\n",
    "\n",
    "# labelling the axis is accomplished using the .xlabel and y.label methods. Note: these methods\n",
    "# take a number of arguments and you can change things like font size, colour etc.\n",
    "plt.xlabel('Year')\n",
    "# remember the .iloc method returns the integer index of row for the column argument\n",
    "plt.ylabel(stage['IndicatorName'].iloc[0])\n",
    "\n",
    "# .title method is used to label the figure\n",
    "plt.title('CO2 Emissions in USA')\n",
    "\n",
    "# to avoid our chart beingpotentially misleadng, we can start the y axis at 0. this is done\n",
    "# using the .axis method, and putting in arguments for ranges of the respective x and y values.\n",
    "plt.axis([1959, 2011, 0, 25])\n",
    "\n",
    "plt.show()"
   ]
  },
  {
   "cell_type": "markdown",
   "metadata": {},
   "source": [
    "### Using Histograms to explore the distribution of values\n",
    "We could also visualize this data as a histogram to better explore the ranges of values in CO2 production per year. "
   ]
  },
  {
   "cell_type": "code",
   "execution_count": null,
   "metadata": {},
   "outputs": [],
   "source": [
    "# If you want to just include those within one standard deviation of the mean, you could do the \n",
    "# following:\n",
    "\n",
    "lower = stage['Value'].mean() - stage['Value'].std()\n",
    "upper = stage['Value'].mean() + stage['Value'].std()\n",
    "\n",
    "# we use list comprehension to create the filtered hist_data which contains only data within\n",
    "# the bound of 1 standard deviation from the mean\n",
    "hist_data = [x for x in stage[:len(stage)]['Value'] if x > lower and x < upper]\n",
    "\n",
    "# Otherwise, let's look at all the data (comment out if want to use within 1 s.d. of mean data)\n",
    "hist_data = stage['Value'].values"
   ]
  },
  {
   "cell_type": "code",
   "execution_count": null,
   "metadata": {},
   "outputs": [],
   "source": [
    "print(len(hist_data))"
   ]
  },
  {
   "cell_type": "code",
   "execution_count": null,
   "metadata": {
    "scrolled": true
   },
   "outputs": [],
   "source": [
    "# histograms (frequency distributions) are plotted using the .hist method. takes arguments for \n",
    "# data source (which is a list or rank 1 ndarray), number of bins, density and facecolor (and \n",
    "# probably numerous others)\n",
    "\n",
    "# bins is this thickness of the histogram per unit of data. e.g. use more bins when the data is\n",
    "# dense, and fewer bins when it is sparse\n",
    "\n",
    "plt.hist(hist_data, 12, density=False, facecolor='green')\n",
    "\n",
    "plt.xlabel(stage['IndicatorName'].iloc[0])\n",
    "plt.ylabel('Count of Years')\n",
    "plt.title('Histogram Example')\n",
    "\n",
    "# the .grid method shows gridlines in the plot when set to True. Can make the plot more readable\n",
    "plt.grid(True)\n",
    "\n",
    "plt.show()"
   ]
  },
  {
   "cell_type": "markdown",
   "metadata": {},
   "source": [
    "We can see the USA has many years where it produced between 19-20 metric tons per capita with outliers on either side."
   ]
  },
  {
   "cell_type": "markdown",
   "metadata": {},
   "source": [
    "### But how do the USA's numbers relate to those of other countries?"
   ]
  },
  {
   "cell_type": "code",
   "execution_count": null,
   "metadata": {},
   "outputs": [],
   "source": [
    "# select CO2 emissions for all countries in 2011\n",
    "hist_indicator = 'CO2 emissions \\(metric'\n",
    "hist_year = 2011\n",
    "\n",
    "# our first mask returns boolean array, True for data which has IndicatorName containing \n",
    "# 'CO2 emissions \\(metric'\n",
    "# our second mask returns another boolean array using the .isin method. the isin() method is used\n",
    "# to filter Dataframes. it selects rows that have a particular value in a particular column.\n",
    "mask1 = data['IndicatorName'].str.contains(hist_indicator) \n",
    "mask2 = data['Year'].isin([hist_year])\n",
    "\n",
    "# we apply both masks to our data and assign to Dataframe variable co2_2011\n",
    "co2_2011 = data[mask1 & mask2]\n",
    "co2_2011.head()"
   ]
  },
  {
   "cell_type": "markdown",
   "metadata": {},
   "source": [
    "For how many countries do we have CO2 per capita emissions data in 2011"
   ]
  },
  {
   "cell_type": "code",
   "execution_count": null,
   "metadata": {},
   "outputs": [],
   "source": [
    "print(len(co2_2011))"
   ]
  },
  {
   "cell_type": "code",
   "execution_count": null,
   "metadata": {},
   "outputs": [],
   "source": [
    "# let's plot a histogram of the emmissions per capita by country in 2011\n",
    "\n",
    "# .subplots  method returns a tuple with the figure, axis attributes.\n",
    "fig, ax = plt.subplots()\n",
    "\n",
    "# the .annotate method annotates the point xy with text. In the simplest form, the text is \n",
    "# placed at xy. Optionally the text can be displayed in another position xytext. An arrow pointing\n",
    "# from the text to the annotated point xy can then be added by defining arrowprops as below\n",
    "\n",
    "# in below, \"USA\" is the text being annotated. xy is where the arrow will point to, xytext is \n",
    "# position where the text will be placed. xycoords and textcoords = 'data' ensures the coordinates\n",
    "# are set using the system of the object being annotated (this is the default). arrowprops us used\n",
    "# to draw a FancyArrowPatch arrow between the positions xy and xytext.\n",
    "ax.annotate(\"USA\",\n",
    "            xy=(17, 5), xycoords='data',\n",
    "            xytext=(17, 30), textcoords='data',\n",
    "            arrowprops=dict(arrowstyle=\"->\",\n",
    "                            connectionstyle=\"arc3\"),\n",
    "            )\n",
    "\n",
    "# as previously, we plot the histogram using the .hist method\n",
    "plt.hist(co2_2011['Value'], 10, normed=False, facecolor='green')\n",
    "\n",
    "plt.xlabel(stage['IndicatorName'].iloc[0])\n",
    "plt.ylabel('Number of Countries')\n",
    "plt.title('Histogram of CO2 Emissions Per Capita 2011')\n",
    "\n",
    "#plt.axis([10, 22, 0, 14])\n",
    "plt.grid(True)\n",
    "\n",
    "plt.show()"
   ]
  },
  {
   "cell_type": "markdown",
   "metadata": {},
   "source": [
    "So the USA, at ~17 CO2 emissions (metric tons per capital) in 2011 is quite high among all countries.\n",
    "\n",
    "An interesting next step, which we'll save for you, would be to explore how this relates to other industrialized nations and to look at the outliers with those values in the 40s!"
   ]
  },
  {
   "cell_type": "code",
   "execution_count": null,
   "metadata": {},
   "outputs": [],
   "source": [
    "# below applies more masks to the data to filter by high emmittors in 2011 (>12 CO2 emissions)\n",
    "\n",
    "hist_indicator = 'CO2 emissions \\(metric'\n",
    "Year = '2011'\n",
    "\n",
    "mask1 = data['IndicatorName'].str.contains(hist_indicator) \n",
    "mask2 = data['Year'].isin([year])\n",
    "mask3 = data['Value'] > 12\n",
    "\n",
    "highemmittors = data[mask1 & mask2 & mask3]\n",
    "\n",
    "sorted = highemmittors.sort_values(by=['Value'], axis=0, ascending=False)\n",
    "sorted.head()"
   ]
  },
  {
   "cell_type": "code",
   "execution_count": null,
   "metadata": {},
   "outputs": [],
   "source": [
    "# this is then plotted similar to before, except with the filtered data to show only \n",
    "# high emmitting countries of CO2\n",
    "\n",
    "fig, ax = plt.subplots()\n",
    "ax.annotate(\"USA\",\n",
    "            xy=(17, 2), xycoords='data',\n",
    "            xytext=(25, 4), textcoords='data',\n",
    "            arrowprops=dict(arrowstyle=\"->\",\n",
    "                            connectionstyle=\"arc3\"),\n",
    "            )\n",
    "\n",
    "plt.hist(highemmittors['Value'], 8, normed=False, facecolor='green')\n",
    "\n",
    "plt.xlabel(stage['IndicatorName'].iloc[0])\n",
    "plt.ylabel('Number of Countries')\n",
    "plt.title('Histogram of CO2 Emissions Per Capita 2011 for Higher Polluting Countries')\n",
    "\n",
    "plt.axis([11, 45, 0, 7])\n",
    "plt.grid(True)\n",
    "plt.show()"
   ]
  },
  {
   "cell_type": "markdown",
   "metadata": {},
   "source": [
    "<p style=\"font-family: Arial; font-size:2.0em;color:blue; font-style:bold\">\n",
    "Matplotlib: Basic Plotting, Part 2</p>"
   ]
  },
  {
   "cell_type": "markdown",
   "metadata": {},
   "source": [
    "### Relationship between GDP and CO2 Emissions in USA"
   ]
  },
  {
   "cell_type": "code",
   "execution_count": null,
   "metadata": {},
   "outputs": [],
   "source": [
    "# We want to find the relationship between GDP per capita and CO2 emissions. First we will \n",
    "# compile a filtered set of data to yield just USA GDP per capita using masks as before\n",
    "hist_indicator = 'GDP per capita \\(constant 2005'\n",
    "hist_country = 'USA'\n",
    "\n",
    "# remember the masks are boolean arrays that we index the data with\n",
    "mask1 = data['IndicatorName'].str.contains(hist_indicator) \n",
    "mask2 = data['CountryCode'].str.contains(hist_country)\n",
    "\n",
    "# we assign the filtered data to a new array 'gdp_stage'. it is just the data matching \n",
    "# the USA for country code and CO2 emissions as indicator over time.\n",
    "gdp_stage = data[mask1 & mask2]"
   ]
  },
  {
   "cell_type": "code",
   "execution_count": null,
   "metadata": {},
   "outputs": [],
   "source": [
    "# to check the filtered data we use .head()\n",
    "\n",
    "gdp_stage.head(2)"
   ]
  },
  {
   "cell_type": "code",
   "execution_count": null,
   "metadata": {},
   "outputs": [],
   "source": [
    "# remember the 'stage' variable is a Dataframe of the USA's CO2 emmissions from 1960\n",
    "\n",
    "stage.head(2)"
   ]
  },
  {
   "cell_type": "code",
   "execution_count": null,
   "metadata": {},
   "outputs": [],
   "source": [
    "# to plot a line plot, we ue the .plot method, passing in years for the x axis and GDP values\n",
    "# for the y axis. remember .values returns data as a rank 1 ndarray\n",
    "plt.plot(gdp_stage['Year'].values, gdp_stage['Value'].values)\n",
    "\n",
    "# Label the axes\n",
    "plt.xlabel('Year')\n",
    "plt.ylabel(gdp_stage['IndicatorName'].iloc[0])\n",
    "\n",
    "#label the figure\n",
    "plt.title('GDP Per Capita USA')\n",
    "\n",
    "# to make potentially more comparable to other countries, we can start the y axis at 0\n",
    "plt.axis([1959, 2011, 0,50000])\n",
    "\n",
    "plt.show()"
   ]
  },
  {
   "cell_type": "markdown",
   "metadata": {},
   "source": [
    "So although we've seen a decline in the CO2 emissions per capita, it does not seem to translate to a decline in GDP per capita (probably low correlation). GDP has been fairly steady since 1960, aside\n",
    "from the dip in 2008, while CO2 emissions have slowly declined over this period"
   ]
  },
  {
   "cell_type": "markdown",
   "metadata": {},
   "source": [
    "### ScatterPlot for comparing GDP against CO2 emissions (per capita)\n",
    "\n",
    "When comparing two or more datasets over time, we first need to make sure we're looking at the same time frames for each variable compared"
   ]
  },
  {
   "cell_type": "code",
   "execution_count": null,
   "metadata": {},
   "outputs": [],
   "source": [
    "# to get min and max values, simply use the .min and .max methods on each set of data\n",
    "\n",
    "print(\"GDP Min Year = \", gdp_stage['Year'].min(), \"max: \", gdp_stage['Year'].max())\n",
    "print(\"CO2 Min Year = \", stage['Year'].min(), \"max: \", stage['Year'].max())"
   ]
  },
  {
   "cell_type": "markdown",
   "metadata": {},
   "source": [
    "We can see we have  3 extra years of GDP data. We need to trim these off so the scatterplot has equal length arrays to compare (this is actually required by scatterplot)"
   ]
  },
  {
   "cell_type": "code",
   "execution_count": null,
   "metadata": {},
   "outputs": [],
   "source": [
    "# to truncate the data, we simply run a filter with the criteria of the year being < 2012. This\n",
    "# is assigned to a new Dataframe 'gdp_stage_trunc'\n",
    "\n",
    "gdp_stage_trunc = gdp_stage[gdp_stage['Year'] < 2012]\n",
    "\n",
    "# We now see the lengths in years of our two datasets are the same (both 1960 -> 2011)\n",
    "print(len(gdp_stage_trunc))\n",
    "print(len(stage))"
   ]
  },
  {
   "cell_type": "code",
   "execution_count": null,
   "metadata": {},
   "outputs": [],
   "source": [
    "%matplotlib inline\n",
    "import matplotlib.pyplot as plt\n",
    "\n",
    "# in starting the scatter plot, lets use the .subplots method again to returns a tuple with the\n",
    "# figure, axis attributes. doing this, we can then use methods on the axis as below\n",
    "fig, axis = plt.subplots()\n",
    "\n",
    "# .grid method sets grid line. can be applied to either x, y or both axis's. Further, we can set\n",
    "# the labels and title from the new axis variable\n",
    "axis.yaxis.grid(True)\n",
    "\n",
    "# as shown belowm fontsize can be specified for labels and the title\n",
    "axis.set_title('CO2 Emissions vs. GDP \\(per capita\\)',fontsize=10)\n",
    "axis.set_xlabel(gdp_stage_trunc['IndicatorName'].iloc[0],fontsize=10)\n",
    "axis.set_ylabel(stage['IndicatorName'].iloc[0],fontsize=10)\n",
    "\n",
    "# below we assign the data we want to plot to variables X and Y\n",
    "X = gdp_stage_trunc['Value']\n",
    "Y = stage['Value']\n",
    "\n",
    "# we then plot the data using the .scatter method, passing arguments in for the X and Y data\n",
    "# which is the data being compared\n",
    "# Note: the data is plotted incrementally by year, although year is not shown\n",
    "axis.scatter(X, Y)\n",
    "plt.show()"
   ]
  },
  {
   "cell_type": "markdown",
   "metadata": {},
   "source": [
    "This doesn't look like a strong relationship. It looks like when GDP and CO2 emissions were climbing in the 60's they tracked together. But after that there doesn't seem to be much of a relationship at all. We can test this by looking at correlation."
   ]
  },
  {
   "cell_type": "code",
   "execution_count": null,
   "metadata": {},
   "outputs": [],
   "source": [
    "# we test for correlation between datasets using the np.corrcoef() method.\n",
    "\n",
    "np.corrcoef(gdp_stage_trunc['Value'],stage['Value'])"
   ]
  },
  {
   "cell_type": "markdown",
   "metadata": {},
   "source": [
    "A correlation of 0.07 is pretty weak. If someone were to argue we need more CO2 production per capita to boost our economy, this initial data analysis would not support that claim.\n",
    "\n",
    "You could continue to explore this to see if other countries have a closer relationship between CO2 emissions and GDP.  Perhaps it is stronger for developing countries?"
   ]
  },
  {
   "cell_type": "markdown",
   "metadata": {
    "collapsed": true
   },
   "source": [
    "## Want more ? \n",
    "\n",
    "### Matplotlib Examples Library"
   ]
  },
  {
   "cell_type": "markdown",
   "metadata": {},
   "source": [
    "http://matplotlib.org/examples/index.html"
   ]
  },
  {
   "cell_type": "code",
   "execution_count": null,
   "metadata": {},
   "outputs": [],
   "source": [
    "%%javascript\n",
    "IPython.OutputArea.auto_scroll_threshold = 9999;"
   ]
  }
 ],
 "metadata": {
  "kernelspec": {
   "display_name": "Python 3",
   "language": "python",
   "name": "python3"
  },
  "language_info": {
   "codemirror_mode": {
    "name": "ipython",
    "version": 3
   },
   "file_extension": ".py",
   "mimetype": "text/x-python",
   "name": "python",
   "nbconvert_exporter": "python",
   "pygments_lexer": "ipython3",
   "version": "3.7.3"
  }
 },
 "nbformat": 4,
 "nbformat_minor": 2
}

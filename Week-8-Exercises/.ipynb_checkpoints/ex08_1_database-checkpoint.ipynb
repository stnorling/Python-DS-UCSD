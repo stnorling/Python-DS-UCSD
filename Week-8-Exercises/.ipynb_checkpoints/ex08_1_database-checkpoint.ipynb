{
 "cells": [
  {
   "cell_type": "markdown",
   "metadata": {},
   "source": [
    "# Exercise Notebook on Interacting with Databases"
   ]
  },
  {
   "cell_type": "code",
   "execution_count": 1,
   "metadata": {
    "nbgrader": {
     "grade": false,
     "grade_id": "import",
     "locked": true,
     "schema_version": 1,
     "solution": false
    }
   },
   "outputs": [],
   "source": [
    "import pandas as pd\n",
    "import numpy as np\n",
    "import os.path"
   ]
  },
  {
   "cell_type": "markdown",
   "metadata": {},
   "source": [
    "In this exercise notebook we will work with a SQLite database. First, let's create a new database from the *movielens* dataset. The ratings data is very large and ingesting it into SQLite is quite slow. Let's only take the first 100 thousand records.\n",
    "\n",
    "We use the Pandas `.readcsv(filepath, sep)` method to load in the csv data. We join on the file name using the `os.path.join(path, paths)`method to create the full path name."
   ]
  },
  {
   "cell_type": "code",
   "execution_count": 3,
   "metadata": {},
   "outputs": [],
   "source": [
    "# DO NOT MODIFY\n",
    "\n",
    "# set here the relative path to the movielens folder\n",
    "MOVIELENS=\"../Week-4-Pandas/movielens/\"\n",
    "\n",
    "movies = pd.read_csv(os.path.join(MOVIELENS, 'movies.csv'), sep=',')\n",
    "ratings = pd.read_csv(os.path.join(MOVIELENS, 'ratings.csv'), sep=',')"
   ]
  },
  {
   "cell_type": "markdown",
   "metadata": {},
   "source": [
    "Using the Pandas .iloc property we can extract the data we want (first 100 thousand data samples)"
   ]
  },
  {
   "cell_type": "code",
   "execution_count": 4,
   "metadata": {},
   "outputs": [],
   "source": [
    "# DO NOT MODIFY\n",
    "\n",
    "ratings = ratings.iloc[:100000]"
   ]
  },
  {
   "cell_type": "markdown",
   "metadata": {},
   "source": [
    "We first create on disk the SQLite databse `movielens.db`. Using sqlite3's `.connect(database)` method creates a new database if the name doesn't exist in the path, otherwise it will open a connection to the existing database. "
   ]
  },
  {
   "cell_type": "code",
   "execution_count": 5,
   "metadata": {},
   "outputs": [],
   "source": [
    "# DO NOT MODIFY\n",
    "\n",
    "import sqlite3\n",
    "conn = sqlite3.connect(\"movielens.db\")"
   ]
  },
  {
   "cell_type": "markdown",
   "metadata": {},
   "source": [
    "Using the `os.path.getsize(filename)` method, we return the size of the argued file. We also use string formatting, with the type as 'g', indicating general format. \n",
    "\n",
    "Specifying `:.2g` indicates we want 2 d.p. in this case (other cases will vary using 'g'."
   ]
  },
  {
   "cell_type": "code",
   "execution_count": 6,
   "metadata": {},
   "outputs": [
    {
     "name": "stdout",
     "output_type": "stream",
     "text": [
      "Size of the database is 0 MB\n"
     ]
    }
   ],
   "source": [
    "print(\"Size of the database is {:.2g} MB\".format(os.path.getsize(\"movielens.db\")/1024**2))"
   ]
  },
  {
   "cell_type": "markdown",
   "metadata": {},
   "source": [
    "We use the `.to_sql(name, con, if_exists)` method of Pandas DataFrames to store the data there. We specify that if the table exists already, it should be replaced."
   ]
  },
  {
   "cell_type": "code",
   "execution_count": 7,
   "metadata": {},
   "outputs": [],
   "source": [
    "# DO NOT MODIFY\n",
    "movies.to_sql(\"movies\", conn, if_exists=\"replace\")"
   ]
  },
  {
   "cell_type": "code",
   "execution_count": 8,
   "metadata": {},
   "outputs": [],
   "source": [
    "# DO NOT MODIFY\n",
    "ratings.to_sql(\"ratings\", conn, if_exists=\"replace\")"
   ]
  },
  {
   "cell_type": "markdown",
   "metadata": {},
   "source": [
    "Note: We divide the number returned from `os.path.getsize(filename)` by 1024^2 as it returns the number of bytes of a file (and we want MB)."
   ]
  },
  {
   "cell_type": "code",
   "execution_count": 26,
   "metadata": {},
   "outputs": [
    {
     "name": "stdout",
     "output_type": "stream",
     "text": [
      "Size of the database is 5.5 MB\n"
     ]
    }
   ],
   "source": [
    "print(\"Size of the database is {:.2g} MB\".format(os.path.getsize(\"movielens.db\")/1024**2))"
   ]
  },
  {
   "cell_type": "markdown",
   "metadata": {},
   "source": [
    "## Exercise 1: get the names of all the tables in the database \n",
    "\n",
    "First let's find out the name of the tables available inside the database"
   ]
  },
  {
   "cell_type": "code",
   "execution_count": 45,
   "metadata": {},
   "outputs": [],
   "source": [
    "cursor = conn.cursor()"
   ]
  },
  {
   "cell_type": "markdown",
   "metadata": {},
   "source": [
    "The sqlite.Cursor `.fetchall()` method returns a list of tuples. To return these tuples as strings in a list, we can iterate through them and return in list comprehension by indexing by [0] for each tuple."
   ]
  },
  {
   "cell_type": "code",
   "execution_count": 46,
   "metadata": {
    "nbgrader": {
     "grade": false,
     "grade_id": "get_list_of_tables",
     "locked": false,
     "schema_version": 1,
     "solution": true
    }
   },
   "outputs": [],
   "source": [
    "def get_list_of_tables(sqlite_cursor):\n",
    "    \"\"\"Return a list of table names in a sqlite database\n",
    "    \n",
    "    Parameters\n",
    "    ----------\n",
    "    sqlite_cursor : sqlite3.Cursor\n",
    "    SQLite database cursor\n",
    "    \n",
    "    Returns\n",
    "    -------\n",
    "    tables : list of strings\n",
    "    list of table names\"\"\"\n",
    "### BEGIN SOLUTION\n",
    "    x =  sqlite_cursor.execute(\"SELECT name FROM sqlite_master\").fetchall()\n",
    "    x = [i[0] for i in x]\n",
    "    return x\n",
    "### END SOLUTION"
   ]
  },
  {
   "cell_type": "code",
   "execution_count": 47,
   "metadata": {},
   "outputs": [
    {
     "data": {
      "text/plain": [
       "['movies', 'ix_movies_index', 'ratings', 'ix_ratings_index']"
      ]
     },
     "execution_count": 47,
     "metadata": {},
     "output_type": "execute_result"
    }
   ],
   "source": [
    "movielens_db_tables = get_list_of_tables(cursor)\n",
    "movielens_db_tables"
   ]
  },
  {
   "cell_type": "markdown",
   "metadata": {},
   "source": [
    "The `isinstance(obj, class_or_tuple)` method returns whether an object is an instance of a class or of a subclass thereof. If the assert statement is False (e.g. the object is not an instance of the given class), it will pull up the assertion error."
   ]
  },
  {
   "cell_type": "code",
   "execution_count": 48,
   "metadata": {},
   "outputs": [],
   "source": [
    "# DO NOT MODIFY\n",
    "\n",
    "assert isinstance(movielens_db_tables[0], str), \"Make sure that the function does not return a list of tuples but just a list of strings\"\n",
    "assert \"movies\" in movielens_db_tables, \"It looks like the movies table is missing\"\n",
    "assert \"ratings\" in movielens_db_tables, \"It looks like the ratings table is missing\""
   ]
  },
  {
   "cell_type": "markdown",
   "metadata": {},
   "source": [
    "## Exercise 2: Print a few ratings records\n",
    "\n",
    "Let's use the `sqlite3` package to extract the first 3 ratings from the ratings table."
   ]
  },
  {
   "cell_type": "code",
   "execution_count": 55,
   "metadata": {
    "nbgrader": {
     "grade": false,
     "grade_id": "first_3_ratings",
     "locked": false,
     "schema_version": 1,
     "solution": true
    }
   },
   "outputs": [],
   "source": [
    "first_3_ratings = None\n",
    "### BEGIN SOLUTION\n",
    "first_3_ratings = cursor.execute(\"SELECT * from ratings LIMIT 3\").fetchall()\n",
    "### END SOLUTION"
   ]
  },
  {
   "cell_type": "code",
   "execution_count": 61,
   "metadata": {},
   "outputs": [
    {
     "data": {
      "text/plain": [
       "[(0, 1, 2, 3.5, 1112486027),\n",
       " (1, 1, 29, 3.5, 1112484676),\n",
       " (2, 1, 32, 3.5, 1112484819)]"
      ]
     },
     "execution_count": 61,
     "metadata": {},
     "output_type": "execute_result"
    }
   ],
   "source": [
    "first_3_ratings"
   ]
  },
  {
   "cell_type": "code",
   "execution_count": 57,
   "metadata": {},
   "outputs": [],
   "source": [
    "assert len(first_3_ratings) == 3, \"Make sure you are selecting only 3 rows\"\n",
    "assert len(first_3_ratings[0]) == 5, \"Something went wrong, each row of ratings should have 5 columns\""
   ]
  },
  {
   "cell_type": "markdown",
   "metadata": {},
   "source": [
    "Exploring the first_3_ratings data structure, we can see it is a Python list. Through indexing, we can see that it is a list of tuples."
   ]
  },
  {
   "cell_type": "code",
   "execution_count": 62,
   "metadata": {},
   "outputs": [
    {
     "name": "stdout",
     "output_type": "stream",
     "text": [
      "<class 'list'>\n",
      "<class 'tuple'>\n"
     ]
    }
   ],
   "source": [
    "print(type(first_3_ratings))\n",
    "print(type(first_3_ratings[0]))"
   ]
  },
  {
   "cell_type": "markdown",
   "metadata": {},
   "source": [
    "## Exercise 3: Load the ratings table in Pandas\n",
    "\n",
    "Let's load the entire ratings table into a dataframe. We do this using Panda's `.read_sql_query(sql, con)` method."
   ]
  },
  {
   "cell_type": "code",
   "execution_count": 68,
   "metadata": {
    "nbgrader": {
     "grade": false,
     "grade_id": "ratings_dataframe",
     "locked": false,
     "schema_version": 1,
     "solution": true
    }
   },
   "outputs": [],
   "source": [
    "ratings_dataframe = None\n",
    "### BEGIN SOLUTION\n",
    "ratings_dataframe = pd.read_sql_query(\"SELECT * from ratings\", conn)\n",
    "### END SOLUTION"
   ]
  },
  {
   "cell_type": "code",
   "execution_count": 69,
   "metadata": {},
   "outputs": [],
   "source": [
    "assert len(ratings_dataframe) == 100000, \"Check your code, you should have 100000 rows\""
   ]
  },
  {
   "cell_type": "markdown",
   "metadata": {},
   "source": [
    "## Exercise 4: Load a subset of the movies table in Pandas\n",
    "\n",
    "We would like now to only load the movies of the Fantasy genre into a Pandas dataframe, not the complete movies table. This is very useful for large datasets because we can save a lot of memory if you avoid doing the filtering in pandas but let the database take care of it.\n",
    "\n",
    "Let's first introduce the SQL syntax for checking if a records contains a string, for example let's print the first 3 Children movies:"
   ]
  },
  {
   "cell_type": "code",
   "execution_count": 18,
   "metadata": {},
   "outputs": [
    {
     "data": {
      "text/plain": [
       "[(0, 1, 'Toy Story (1995)', 'Adventure|Animation|Children|Comedy|Fantasy'),\n",
       " (1, 2, 'Jumanji (1995)', 'Adventure|Children|Fantasy'),\n",
       " (7, 8, 'Tom and Huck (1995)', 'Adventure|Children')]"
      ]
     },
     "execution_count": 18,
     "metadata": {},
     "output_type": "execute_result"
    }
   ],
   "source": [
    "cursor.execute(\"SELECT * FROM movies WHERE genres LIKE '%Children%' LIMIT 3\").fetchall()"
   ]
  },
  {
   "cell_type": "code",
   "execution_count": 77,
   "metadata": {
    "nbgrader": {
     "grade": false,
     "grade_id": "fantasy_movies_dataframe",
     "locked": false,
     "schema_version": 1,
     "solution": true
    }
   },
   "outputs": [
    {
     "data": {
      "text/html": [
       "<div>\n",
       "<style scoped>\n",
       "    .dataframe tbody tr th:only-of-type {\n",
       "        vertical-align: middle;\n",
       "    }\n",
       "\n",
       "    .dataframe tbody tr th {\n",
       "        vertical-align: top;\n",
       "    }\n",
       "\n",
       "    .dataframe thead th {\n",
       "        text-align: right;\n",
       "    }\n",
       "</style>\n",
       "<table border=\"1\" class=\"dataframe\">\n",
       "  <thead>\n",
       "    <tr style=\"text-align: right;\">\n",
       "      <th></th>\n",
       "      <th>index</th>\n",
       "      <th>movieId</th>\n",
       "      <th>title</th>\n",
       "      <th>genres</th>\n",
       "    </tr>\n",
       "  </thead>\n",
       "  <tbody>\n",
       "    <tr>\n",
       "      <th>0</th>\n",
       "      <td>0</td>\n",
       "      <td>1</td>\n",
       "      <td>Toy Story (1995)</td>\n",
       "      <td>Adventure|Animation|Children|Comedy|Fantasy</td>\n",
       "    </tr>\n",
       "    <tr>\n",
       "      <th>1</th>\n",
       "      <td>1</td>\n",
       "      <td>2</td>\n",
       "      <td>Jumanji (1995)</td>\n",
       "      <td>Adventure|Children|Fantasy</td>\n",
       "    </tr>\n",
       "    <tr>\n",
       "      <th>2</th>\n",
       "      <td>28</td>\n",
       "      <td>29</td>\n",
       "      <td>City of Lost Children, The (Cité des enfants p...</td>\n",
       "      <td>Adventure|Drama|Fantasy|Mystery|Sci-Fi</td>\n",
       "    </tr>\n",
       "    <tr>\n",
       "      <th>3</th>\n",
       "      <td>43</td>\n",
       "      <td>44</td>\n",
       "      <td>Mortal Kombat (1995)</td>\n",
       "      <td>Action|Adventure|Fantasy</td>\n",
       "    </tr>\n",
       "    <tr>\n",
       "      <th>4</th>\n",
       "      <td>55</td>\n",
       "      <td>56</td>\n",
       "      <td>Kids of the Round Table (1995)</td>\n",
       "      <td>Adventure|Children|Fantasy</td>\n",
       "    </tr>\n",
       "    <tr>\n",
       "      <th>5</th>\n",
       "      <td>59</td>\n",
       "      <td>60</td>\n",
       "      <td>Indian in the Cupboard, The (1995)</td>\n",
       "      <td>Adventure|Children|Fantasy</td>\n",
       "    </tr>\n",
       "    <tr>\n",
       "      <th>6</th>\n",
       "      <td>124</td>\n",
       "      <td>126</td>\n",
       "      <td>NeverEnding Story III, The (1994)</td>\n",
       "      <td>Adventure|Children|Fantasy</td>\n",
       "    </tr>\n",
       "    <tr>\n",
       "      <th>7</th>\n",
       "      <td>186</td>\n",
       "      <td>188</td>\n",
       "      <td>Prophecy, The (1995)</td>\n",
       "      <td>Fantasy|Horror|Mystery</td>\n",
       "    </tr>\n",
       "    <tr>\n",
       "      <th>8</th>\n",
       "      <td>187</td>\n",
       "      <td>189</td>\n",
       "      <td>Reckless (1995)</td>\n",
       "      <td>Comedy|Fantasy</td>\n",
       "    </tr>\n",
       "    <tr>\n",
       "      <th>9</th>\n",
       "      <td>199</td>\n",
       "      <td>201</td>\n",
       "      <td>Three Wishes (1995)</td>\n",
       "      <td>Drama|Fantasy</td>\n",
       "    </tr>\n",
       "    <tr>\n",
       "      <th>10</th>\n",
       "      <td>240</td>\n",
       "      <td>243</td>\n",
       "      <td>Gordy (1995)</td>\n",
       "      <td>Children|Comedy|Fantasy</td>\n",
       "    </tr>\n",
       "    <tr>\n",
       "      <th>11</th>\n",
       "      <td>255</td>\n",
       "      <td>258</td>\n",
       "      <td>Kid in King Arthur's Court, A (1995)</td>\n",
       "      <td>Adventure|Children|Comedy|Fantasy|Romance</td>\n",
       "    </tr>\n",
       "    <tr>\n",
       "      <th>12</th>\n",
       "      <td>262</td>\n",
       "      <td>265</td>\n",
       "      <td>Like Water for Chocolate (Como agua para choco...</td>\n",
       "      <td>Drama|Fantasy|Romance</td>\n",
       "    </tr>\n",
       "    <tr>\n",
       "      <th>13</th>\n",
       "      <td>311</td>\n",
       "      <td>314</td>\n",
       "      <td>Secret of Roan Inish, The (1994)</td>\n",
       "      <td>Children|Drama|Fantasy|Mystery</td>\n",
       "    </tr>\n",
       "    <tr>\n",
       "      <th>14</th>\n",
       "      <td>314</td>\n",
       "      <td>317</td>\n",
       "      <td>Santa Clause, The (1994)</td>\n",
       "      <td>Comedy|Drama|Fantasy</td>\n",
       "    </tr>\n",
       "    <tr>\n",
       "      <th>15</th>\n",
       "      <td>349</td>\n",
       "      <td>353</td>\n",
       "      <td>Crow, The (1994)</td>\n",
       "      <td>Action|Crime|Fantasy|Thriller</td>\n",
       "    </tr>\n",
       "    <tr>\n",
       "      <th>16</th>\n",
       "      <td>351</td>\n",
       "      <td>355</td>\n",
       "      <td>Flintstones, The (1994)</td>\n",
       "      <td>Children|Comedy|Fantasy</td>\n",
       "    </tr>\n",
       "    <tr>\n",
       "      <th>17</th>\n",
       "      <td>363</td>\n",
       "      <td>367</td>\n",
       "      <td>Mask, The (1994)</td>\n",
       "      <td>Action|Comedy|Crime|Fantasy</td>\n",
       "    </tr>\n",
       "    <tr>\n",
       "      <th>18</th>\n",
       "      <td>389</td>\n",
       "      <td>393</td>\n",
       "      <td>Street Fighter (1994)</td>\n",
       "      <td>Action|Adventure|Fantasy</td>\n",
       "    </tr>\n",
       "    <tr>\n",
       "      <th>19</th>\n",
       "      <td>391</td>\n",
       "      <td>395</td>\n",
       "      <td>Desert Winds (1995)</td>\n",
       "      <td>Drama|Fantasy|Romance</td>\n",
       "    </tr>\n",
       "    <tr>\n",
       "      <th>20</th>\n",
       "      <td>401</td>\n",
       "      <td>405</td>\n",
       "      <td>Highlander III: The Sorcerer (a.k.a. Highlande...</td>\n",
       "      <td>Action|Fantasy</td>\n",
       "    </tr>\n",
       "    <tr>\n",
       "      <th>21</th>\n",
       "      <td>406</td>\n",
       "      <td>410</td>\n",
       "      <td>Addams Family Values (1993)</td>\n",
       "      <td>Children|Comedy|Fantasy</td>\n",
       "    </tr>\n",
       "    <tr>\n",
       "      <th>22</th>\n",
       "      <td>481</td>\n",
       "      <td>485</td>\n",
       "      <td>Last Action Hero (1993)</td>\n",
       "      <td>Action|Adventure|Comedy|Fantasy</td>\n",
       "    </tr>\n",
       "    <tr>\n",
       "      <th>23</th>\n",
       "      <td>502</td>\n",
       "      <td>506</td>\n",
       "      <td>Orlando (1992)</td>\n",
       "      <td>Drama|Fantasy|Romance</td>\n",
       "    </tr>\n",
       "    <tr>\n",
       "      <th>24</th>\n",
       "      <td>529</td>\n",
       "      <td>533</td>\n",
       "      <td>Shadow, The (1994)</td>\n",
       "      <td>Action|Adventure|Fantasy|Mystery</td>\n",
       "    </tr>\n",
       "    <tr>\n",
       "      <th>25</th>\n",
       "      <td>542</td>\n",
       "      <td>546</td>\n",
       "      <td>Super Mario Bros. (1993)</td>\n",
       "      <td>Action|Adventure|Children|Comedy|Fantasy|Sci-Fi</td>\n",
       "    </tr>\n",
       "    <tr>\n",
       "      <th>26</th>\n",
       "      <td>547</td>\n",
       "      <td>551</td>\n",
       "      <td>Nightmare Before Christmas, The (1993)</td>\n",
       "      <td>Animation|Children|Fantasy|Musical</td>\n",
       "    </tr>\n",
       "    <tr>\n",
       "      <th>27</th>\n",
       "      <td>553</td>\n",
       "      <td>558</td>\n",
       "      <td>Pagemaster, The (1994)</td>\n",
       "      <td>Action|Adventure|Animation|Children|Fantasy</td>\n",
       "    </tr>\n",
       "    <tr>\n",
       "      <th>28</th>\n",
       "      <td>581</td>\n",
       "      <td>587</td>\n",
       "      <td>Ghost (1990)</td>\n",
       "      <td>Comedy|Drama|Fantasy|Romance|Thriller</td>\n",
       "    </tr>\n",
       "    <tr>\n",
       "      <th>29</th>\n",
       "      <td>588</td>\n",
       "      <td>594</td>\n",
       "      <td>Snow White and the Seven Dwarfs (1937)</td>\n",
       "      <td>Animation|Children|Drama|Fantasy|Musical</td>\n",
       "    </tr>\n",
       "    <tr>\n",
       "      <th>...</th>\n",
       "      <td>...</td>\n",
       "      <td>...</td>\n",
       "      <td>...</td>\n",
       "      <td>...</td>\n",
       "    </tr>\n",
       "    <tr>\n",
       "      <th>1382</th>\n",
       "      <td>26714</td>\n",
       "      <td>128540</td>\n",
       "      <td>The Gruffalo's Child (2011)</td>\n",
       "      <td>Adventure|Animation|Children|Fantasy</td>\n",
       "    </tr>\n",
       "    <tr>\n",
       "      <th>1383</th>\n",
       "      <td>26798</td>\n",
       "      <td>128842</td>\n",
       "      <td>Dragonheart 3: The Sorcerer's Curse (2015)</td>\n",
       "      <td>Action|Adventure|Fantasy</td>\n",
       "    </tr>\n",
       "    <tr>\n",
       "      <th>1384</th>\n",
       "      <td>26838</td>\n",
       "      <td>128952</td>\n",
       "      <td>House IV (1992)</td>\n",
       "      <td>Fantasy|Horror|Thriller</td>\n",
       "    </tr>\n",
       "    <tr>\n",
       "      <th>1385</th>\n",
       "      <td>26847</td>\n",
       "      <td>128985</td>\n",
       "      <td>The Stone Council (2006)</td>\n",
       "      <td>Adventure|Crime|Drama|Fantasy|Mystery|Thriller</td>\n",
       "    </tr>\n",
       "    <tr>\n",
       "      <th>1386</th>\n",
       "      <td>26858</td>\n",
       "      <td>129030</td>\n",
       "      <td>The Coven (2015)</td>\n",
       "      <td>Fantasy|Horror</td>\n",
       "    </tr>\n",
       "    <tr>\n",
       "      <th>1387</th>\n",
       "      <td>26871</td>\n",
       "      <td>129191</td>\n",
       "      <td>The Clowns (1970)</td>\n",
       "      <td>Comedy|Drama|Fantasy|Sci-Fi</td>\n",
       "    </tr>\n",
       "    <tr>\n",
       "      <th>1388</th>\n",
       "      <td>26890</td>\n",
       "      <td>129307</td>\n",
       "      <td>Wu yen (2001)</td>\n",
       "      <td>Comedy|Fantasy</td>\n",
       "    </tr>\n",
       "    <tr>\n",
       "      <th>1389</th>\n",
       "      <td>26904</td>\n",
       "      <td>129358</td>\n",
       "      <td>The Gamers (2002)</td>\n",
       "      <td>Adventure|Comedy|Fantasy</td>\n",
       "    </tr>\n",
       "    <tr>\n",
       "      <th>1390</th>\n",
       "      <td>26914</td>\n",
       "      <td>129397</td>\n",
       "      <td>Marvel One-Shot: Item 47 (2012)</td>\n",
       "      <td>Action|Fantasy|Sci-Fi</td>\n",
       "    </tr>\n",
       "    <tr>\n",
       "      <th>1391</th>\n",
       "      <td>27054</td>\n",
       "      <td>130034</td>\n",
       "      <td>Stand by Me Doraemon (2014)</td>\n",
       "      <td>Animation|Children|Drama|Fantasy</td>\n",
       "    </tr>\n",
       "    <tr>\n",
       "      <th>1392</th>\n",
       "      <td>27058</td>\n",
       "      <td>130050</td>\n",
       "      <td>Digging Up the Marrow (2014)</td>\n",
       "      <td>Drama|Fantasy|Horror|Mystery|Thriller</td>\n",
       "    </tr>\n",
       "    <tr>\n",
       "      <th>1393</th>\n",
       "      <td>27068</td>\n",
       "      <td>130071</td>\n",
       "      <td>Nymph (2014)</td>\n",
       "      <td>Fantasy|Horror</td>\n",
       "    </tr>\n",
       "    <tr>\n",
       "      <th>1394</th>\n",
       "      <td>27075</td>\n",
       "      <td>130087</td>\n",
       "      <td>The Cobbler (2015)</td>\n",
       "      <td>Comedy|Drama|Fantasy</td>\n",
       "    </tr>\n",
       "    <tr>\n",
       "      <th>1395</th>\n",
       "      <td>27087</td>\n",
       "      <td>130338</td>\n",
       "      <td>Silent Sonata (2011)</td>\n",
       "      <td>Drama|Fantasy|War</td>\n",
       "    </tr>\n",
       "    <tr>\n",
       "      <th>1396</th>\n",
       "      <td>27107</td>\n",
       "      <td>130402</td>\n",
       "      <td>Cardcaptor Sakura: The Sealed Card (2000)</td>\n",
       "      <td>Adventure|Animation|Comedy|Fantasy|Romance</td>\n",
       "    </tr>\n",
       "    <tr>\n",
       "      <th>1397</th>\n",
       "      <td>27111</td>\n",
       "      <td>130424</td>\n",
       "      <td>The Crown Jewels (2011)</td>\n",
       "      <td>Drama|Fantasy|Romance</td>\n",
       "    </tr>\n",
       "    <tr>\n",
       "      <th>1398</th>\n",
       "      <td>27113</td>\n",
       "      <td>130444</td>\n",
       "      <td>Ruby Red (2013)</td>\n",
       "      <td>Adventure|Children|Fantasy|Sci-Fi</td>\n",
       "    </tr>\n",
       "    <tr>\n",
       "      <th>1399</th>\n",
       "      <td>27129</td>\n",
       "      <td>130506</td>\n",
       "      <td>Berserk: The Golden Age Arc 2 - The Battle for...</td>\n",
       "      <td>Action|Animation|Fantasy</td>\n",
       "    </tr>\n",
       "    <tr>\n",
       "      <th>1400</th>\n",
       "      <td>27130</td>\n",
       "      <td>130508</td>\n",
       "      <td>Berserk: The Golden Age Arc - The Egg of the K...</td>\n",
       "      <td>Action|Adventure|Animation|Fantasy|Horror</td>\n",
       "    </tr>\n",
       "    <tr>\n",
       "      <th>1401</th>\n",
       "      <td>27131</td>\n",
       "      <td>130510</td>\n",
       "      <td>Berserk: The Golden Age Arc 3 - Descent (2013)</td>\n",
       "      <td>Action|Animation|Fantasy</td>\n",
       "    </tr>\n",
       "    <tr>\n",
       "      <th>1402</th>\n",
       "      <td>27136</td>\n",
       "      <td>130520</td>\n",
       "      <td>Home (2015)</td>\n",
       "      <td>Animation|Children|Comedy|Fantasy|Sci-Fi</td>\n",
       "    </tr>\n",
       "    <tr>\n",
       "      <th>1403</th>\n",
       "      <td>27187</td>\n",
       "      <td>130984</td>\n",
       "      <td>Santo vs. las lobas (1976)</td>\n",
       "      <td>Action|Fantasy|Horror</td>\n",
       "    </tr>\n",
       "    <tr>\n",
       "      <th>1404</th>\n",
       "      <td>27189</td>\n",
       "      <td>130996</td>\n",
       "      <td>The Beautiful Story (1992)</td>\n",
       "      <td>Adventure|Drama|Fantasy</td>\n",
       "    </tr>\n",
       "    <tr>\n",
       "      <th>1405</th>\n",
       "      <td>27203</td>\n",
       "      <td>131054</td>\n",
       "      <td>Dinotopia: Quest for the Ruby Sunstone (2005)</td>\n",
       "      <td>Children|Fantasy|Sci-Fi</td>\n",
       "    </tr>\n",
       "    <tr>\n",
       "      <th>1406</th>\n",
       "      <td>27207</td>\n",
       "      <td>131062</td>\n",
       "      <td>20 Years After (2008)</td>\n",
       "      <td>Drama|Fantasy|Sci-Fi</td>\n",
       "    </tr>\n",
       "    <tr>\n",
       "      <th>1407</th>\n",
       "      <td>27208</td>\n",
       "      <td>131066</td>\n",
       "      <td>Ronal the Barbarian (2011)</td>\n",
       "      <td>Adventure|Animation|Fantasy</td>\n",
       "    </tr>\n",
       "    <tr>\n",
       "      <th>1408</th>\n",
       "      <td>27215</td>\n",
       "      <td>131080</td>\n",
       "      <td>Cinderella III: A Twist in Time (2007)</td>\n",
       "      <td>Animation|Children|Fantasy|Romance</td>\n",
       "    </tr>\n",
       "    <tr>\n",
       "      <th>1409</th>\n",
       "      <td>27217</td>\n",
       "      <td>131084</td>\n",
       "      <td>Hui Buh: The Castle Ghost (2006)</td>\n",
       "      <td>Adventure|Comedy|Fantasy</td>\n",
       "    </tr>\n",
       "    <tr>\n",
       "      <th>1410</th>\n",
       "      <td>27270</td>\n",
       "      <td>131248</td>\n",
       "      <td>Brother Bear 2 (2006)</td>\n",
       "      <td>Adventure|Animation|Children|Comedy|Fantasy</td>\n",
       "    </tr>\n",
       "    <tr>\n",
       "      <th>1411</th>\n",
       "      <td>27277</td>\n",
       "      <td>131262</td>\n",
       "      <td>Innocence (2014)</td>\n",
       "      <td>Adventure|Fantasy|Horror</td>\n",
       "    </tr>\n",
       "  </tbody>\n",
       "</table>\n",
       "<p>1412 rows × 4 columns</p>\n",
       "</div>"
      ],
      "text/plain": [
       "      index  movieId                                              title  \\\n",
       "0         0        1                                   Toy Story (1995)   \n",
       "1         1        2                                     Jumanji (1995)   \n",
       "2        28       29  City of Lost Children, The (Cité des enfants p...   \n",
       "3        43       44                               Mortal Kombat (1995)   \n",
       "4        55       56                     Kids of the Round Table (1995)   \n",
       "5        59       60                 Indian in the Cupboard, The (1995)   \n",
       "6       124      126                  NeverEnding Story III, The (1994)   \n",
       "7       186      188                               Prophecy, The (1995)   \n",
       "8       187      189                                    Reckless (1995)   \n",
       "9       199      201                                Three Wishes (1995)   \n",
       "10      240      243                                       Gordy (1995)   \n",
       "11      255      258               Kid in King Arthur's Court, A (1995)   \n",
       "12      262      265  Like Water for Chocolate (Como agua para choco...   \n",
       "13      311      314                   Secret of Roan Inish, The (1994)   \n",
       "14      314      317                           Santa Clause, The (1994)   \n",
       "15      349      353                                   Crow, The (1994)   \n",
       "16      351      355                            Flintstones, The (1994)   \n",
       "17      363      367                                   Mask, The (1994)   \n",
       "18      389      393                              Street Fighter (1994)   \n",
       "19      391      395                                Desert Winds (1995)   \n",
       "20      401      405  Highlander III: The Sorcerer (a.k.a. Highlande...   \n",
       "21      406      410                        Addams Family Values (1993)   \n",
       "22      481      485                            Last Action Hero (1993)   \n",
       "23      502      506                                     Orlando (1992)   \n",
       "24      529      533                                 Shadow, The (1994)   \n",
       "25      542      546                           Super Mario Bros. (1993)   \n",
       "26      547      551             Nightmare Before Christmas, The (1993)   \n",
       "27      553      558                             Pagemaster, The (1994)   \n",
       "28      581      587                                       Ghost (1990)   \n",
       "29      588      594             Snow White and the Seven Dwarfs (1937)   \n",
       "...     ...      ...                                                ...   \n",
       "1382  26714   128540                        The Gruffalo's Child (2011)   \n",
       "1383  26798   128842         Dragonheart 3: The Sorcerer's Curse (2015)   \n",
       "1384  26838   128952                                    House IV (1992)   \n",
       "1385  26847   128985                           The Stone Council (2006)   \n",
       "1386  26858   129030                                   The Coven (2015)   \n",
       "1387  26871   129191                                  The Clowns (1970)   \n",
       "1388  26890   129307                                      Wu yen (2001)   \n",
       "1389  26904   129358                                  The Gamers (2002)   \n",
       "1390  26914   129397                    Marvel One-Shot: Item 47 (2012)   \n",
       "1391  27054   130034                        Stand by Me Doraemon (2014)   \n",
       "1392  27058   130050                       Digging Up the Marrow (2014)   \n",
       "1393  27068   130071                                       Nymph (2014)   \n",
       "1394  27075   130087                                 The Cobbler (2015)   \n",
       "1395  27087   130338                               Silent Sonata (2011)   \n",
       "1396  27107   130402          Cardcaptor Sakura: The Sealed Card (2000)   \n",
       "1397  27111   130424                            The Crown Jewels (2011)   \n",
       "1398  27113   130444                                    Ruby Red (2013)   \n",
       "1399  27129   130506  Berserk: The Golden Age Arc 2 - The Battle for...   \n",
       "1400  27130   130508  Berserk: The Golden Age Arc - The Egg of the K...   \n",
       "1401  27131   130510     Berserk: The Golden Age Arc 3 - Descent (2013)   \n",
       "1402  27136   130520                                        Home (2015)   \n",
       "1403  27187   130984                         Santo vs. las lobas (1976)   \n",
       "1404  27189   130996                         The Beautiful Story (1992)   \n",
       "1405  27203   131054      Dinotopia: Quest for the Ruby Sunstone (2005)   \n",
       "1406  27207   131062                              20 Years After (2008)   \n",
       "1407  27208   131066                         Ronal the Barbarian (2011)   \n",
       "1408  27215   131080             Cinderella III: A Twist in Time (2007)   \n",
       "1409  27217   131084                   Hui Buh: The Castle Ghost (2006)   \n",
       "1410  27270   131248                              Brother Bear 2 (2006)   \n",
       "1411  27277   131262                                   Innocence (2014)   \n",
       "\n",
       "                                               genres  \n",
       "0         Adventure|Animation|Children|Comedy|Fantasy  \n",
       "1                          Adventure|Children|Fantasy  \n",
       "2              Adventure|Drama|Fantasy|Mystery|Sci-Fi  \n",
       "3                            Action|Adventure|Fantasy  \n",
       "4                          Adventure|Children|Fantasy  \n",
       "5                          Adventure|Children|Fantasy  \n",
       "6                          Adventure|Children|Fantasy  \n",
       "7                              Fantasy|Horror|Mystery  \n",
       "8                                      Comedy|Fantasy  \n",
       "9                                       Drama|Fantasy  \n",
       "10                            Children|Comedy|Fantasy  \n",
       "11          Adventure|Children|Comedy|Fantasy|Romance  \n",
       "12                              Drama|Fantasy|Romance  \n",
       "13                     Children|Drama|Fantasy|Mystery  \n",
       "14                               Comedy|Drama|Fantasy  \n",
       "15                      Action|Crime|Fantasy|Thriller  \n",
       "16                            Children|Comedy|Fantasy  \n",
       "17                        Action|Comedy|Crime|Fantasy  \n",
       "18                           Action|Adventure|Fantasy  \n",
       "19                              Drama|Fantasy|Romance  \n",
       "20                                     Action|Fantasy  \n",
       "21                            Children|Comedy|Fantasy  \n",
       "22                    Action|Adventure|Comedy|Fantasy  \n",
       "23                              Drama|Fantasy|Romance  \n",
       "24                   Action|Adventure|Fantasy|Mystery  \n",
       "25    Action|Adventure|Children|Comedy|Fantasy|Sci-Fi  \n",
       "26                 Animation|Children|Fantasy|Musical  \n",
       "27        Action|Adventure|Animation|Children|Fantasy  \n",
       "28              Comedy|Drama|Fantasy|Romance|Thriller  \n",
       "29           Animation|Children|Drama|Fantasy|Musical  \n",
       "...                                               ...  \n",
       "1382             Adventure|Animation|Children|Fantasy  \n",
       "1383                         Action|Adventure|Fantasy  \n",
       "1384                          Fantasy|Horror|Thriller  \n",
       "1385   Adventure|Crime|Drama|Fantasy|Mystery|Thriller  \n",
       "1386                                   Fantasy|Horror  \n",
       "1387                      Comedy|Drama|Fantasy|Sci-Fi  \n",
       "1388                                   Comedy|Fantasy  \n",
       "1389                         Adventure|Comedy|Fantasy  \n",
       "1390                            Action|Fantasy|Sci-Fi  \n",
       "1391                 Animation|Children|Drama|Fantasy  \n",
       "1392            Drama|Fantasy|Horror|Mystery|Thriller  \n",
       "1393                                   Fantasy|Horror  \n",
       "1394                             Comedy|Drama|Fantasy  \n",
       "1395                                Drama|Fantasy|War  \n",
       "1396       Adventure|Animation|Comedy|Fantasy|Romance  \n",
       "1397                            Drama|Fantasy|Romance  \n",
       "1398                Adventure|Children|Fantasy|Sci-Fi  \n",
       "1399                         Action|Animation|Fantasy  \n",
       "1400        Action|Adventure|Animation|Fantasy|Horror  \n",
       "1401                         Action|Animation|Fantasy  \n",
       "1402         Animation|Children|Comedy|Fantasy|Sci-Fi  \n",
       "1403                            Action|Fantasy|Horror  \n",
       "1404                          Adventure|Drama|Fantasy  \n",
       "1405                          Children|Fantasy|Sci-Fi  \n",
       "1406                             Drama|Fantasy|Sci-Fi  \n",
       "1407                      Adventure|Animation|Fantasy  \n",
       "1408               Animation|Children|Fantasy|Romance  \n",
       "1409                         Adventure|Comedy|Fantasy  \n",
       "1410      Adventure|Animation|Children|Comedy|Fantasy  \n",
       "1411                         Adventure|Fantasy|Horror  \n",
       "\n",
       "[1412 rows x 4 columns]"
      ]
     },
     "execution_count": 77,
     "metadata": {},
     "output_type": "execute_result"
    }
   ],
   "source": [
    "fantasy_movies_dataframe = None\n",
    "### BEGIN SOLUTION\n",
    "fantasy_movies_dataframe = pd.read_sql_query(\"SELECT * FROM movies WHERE genres LIKE '%Fantasy%'\", conn)\n",
    "### END SOLUTION\n",
    "fantasy_movies_dataframe"
   ]
  },
  {
   "cell_type": "markdown",
   "metadata": {},
   "source": [
    "In our second assert statement below, we first index by genres in our fantasy_movies_dataframe to convert it to a series. We then use the Pandas vectorized string method `.str.contains()` to return a boolean Index based on whether a given pattern or regex is contained within a string of a Series or Index. Finally, the DataFrame `.all()` method at the end returns True if all elements are True, otherwise returns False."
   ]
  },
  {
   "cell_type": "code",
   "execution_count": 80,
   "metadata": {},
   "outputs": [],
   "source": [
    "# DO NOT MODIFY\n",
    "\n",
    "assert len(fantasy_movies_dataframe) == 1412, \"Make sure you do not have LIMIT in the SQL query\"\n",
    "assert fantasy_movies_dataframe.genres.str.contains(\"Fantasy\").all(), \"All rows should contain the Fantasy string, try to identify which rows are not\""
   ]
  }
 ],
 "metadata": {
  "anaconda-cloud": {},
  "celltoolbar": "Create Assignment",
  "kernelspec": {
   "display_name": "Python 3",
   "language": "python",
   "name": "python3"
  },
  "language_info": {
   "codemirror_mode": {
    "name": "ipython",
    "version": 3
   },
   "file_extension": ".py",
   "mimetype": "text/x-python",
   "name": "python",
   "nbconvert_exporter": "python",
   "pygments_lexer": "ipython3",
   "version": "3.7.3"
  }
 },
 "nbformat": 4,
 "nbformat_minor": 1
}
